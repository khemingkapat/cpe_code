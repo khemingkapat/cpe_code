{
 "cells": [
  {
   "cell_type": "code",
   "execution_count": 6,
   "id": "8ab926f2-7ef0-4295-9676-bbd5fd1c71ba",
   "metadata": {
    "scrolled": true
   },
   "outputs": [
    {
     "name": "stdout",
     "output_type": "stream",
     "text": [
      "Status: 200, Response: 30\n",
      "Status: 200, Response: 31\n",
      "Status: 200, Response: 32\n",
      "Status: 200, Response: 33\n",
      "Status: 200, Response: 34\n",
      "Status: 200, Response: 1\n",
      "Status: 200, Response: 2\n",
      "Status: 200, Response: 3\n",
      "Status: 200, Response: 4\n",
      "Status: 200, Response: 5\n",
      "Status: 200, Response: 6\n",
      "Status: 200, Response: 7\n",
      "Status: 200, Response: 8\n",
      "Status: 200, Response: 9\n",
      "Status: 200, Response: 10\n"
     ]
    },
    {
     "ename": "KeyboardInterrupt",
     "evalue": "",
     "output_type": "error",
     "traceback": [
      "\u001b[31m---------------------------------------------------------------------------\u001b[39m",
      "\u001b[31mKeyboardInterrupt\u001b[39m                         Traceback (most recent call last)",
      "\u001b[36mCell\u001b[39m\u001b[36m \u001b[39m\u001b[32mIn[6]\u001b[39m\u001b[32m, line 25\u001b[39m\n\u001b[32m     23\u001b[39m r = requests.post(URL, data=payload)\n\u001b[32m     24\u001b[39m \u001b[38;5;28mprint\u001b[39m(\u001b[33mf\u001b[39m\u001b[33m\"\u001b[39m\u001b[33mStatus: \u001b[39m\u001b[38;5;132;01m{\u001b[39;00mr.status_code\u001b[38;5;132;01m}\u001b[39;00m\u001b[33m, Response: \u001b[39m\u001b[38;5;132;01m{\u001b[39;00mr.text\u001b[38;5;132;01m}\u001b[39;00m\u001b[33m\"\u001b[39m)\n\u001b[32m---> \u001b[39m\u001b[32m25\u001b[39m time.sleep(\u001b[32m15\u001b[39m)\n",
      "\u001b[31mKeyboardInterrupt\u001b[39m: "
     ]
    }
   ],
   "source": [
    "import requests\n",
    "import time\n",
    "import csv\n",
    "thing_name = \"assignment1\"\n",
    "API_KEY = \"DBQ0D1E8O99UWU6T\"\n",
    "URL = \"https://api.thingspeak.com/update\"\n",
    "while True:\n",
    "\n",
    "    row = requests.get(\"https://dweet.cc:443/get/latest/dweet/for/assignment1\").json()[\"with\"][0][\"content\"]\n",
    "\n",
    "    \n",
    "    payload = {\n",
    "            \"api_key\": API_KEY,\n",
    "            \"field1\": row.get(\"room_temperature\"),\n",
    "            \"field2\": row.get(\"room_humidity\"),\n",
    "            \"field3\": row.get(\"outdoor_temperature\"),\n",
    "            \"field4\": row.get(\"outdoor_humidity\"),\n",
    "            \"field5\": row.get(\"location_lattitude\"),\n",
    "            \"field6\": row.get(\"location_longitude\"),\n",
    "            \"field7\": row.get(\"AQI\"),\n",
    "            \"field8\": row.get(\"AirCondition_Status\"),\n",
    "    }\n",
    "    r = requests.post(URL, data=payload)\n",
    "    print(f\"Status: {r.status_code}, Response: {r.text}\")\n",
    "    time.sleep(15)"
   ]
  },
  {
   "cell_type": "code",
   "execution_count": null,
   "id": "f4f64b5a-9c62-47aa-9510-80e587b6365a",
   "metadata": {},
   "outputs": [],
   "source": []
  }
 ],
 "metadata": {
  "kernelspec": {
   "display_name": "Python 3 (ipykernel)",
   "language": "python",
   "name": "python3"
  },
  "language_info": {
   "codemirror_mode": {
    "name": "ipython",
    "version": 3
   },
   "file_extension": ".py",
   "mimetype": "text/x-python",
   "name": "python",
   "nbconvert_exporter": "python",
   "pygments_lexer": "ipython3",
   "version": "3.11.13"
  }
 },
 "nbformat": 4,
 "nbformat_minor": 5
}
