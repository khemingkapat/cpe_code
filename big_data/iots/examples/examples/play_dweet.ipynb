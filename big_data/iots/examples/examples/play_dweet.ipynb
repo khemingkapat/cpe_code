{
 "cells": [
  {
   "cell_type": "markdown",
   "metadata": {},
   "source": [
    "### To send data by HTTP message from IoT devices to dweet.cc"
   ]
  },
  {
   "cell_type": "code",
   "execution_count": 1,
   "metadata": {},
   "outputs": [],
   "source": [
    "import requests"
   ]
  },
  {
   "cell_type": "markdown",
   "metadata": {},
   "source": [
    "### First create Thing's name"
   ]
  },
  {
   "cell_type": "code",
   "execution_count": 2,
   "metadata": {},
   "outputs": [
    {
     "name": "stdout",
     "output_type": "stream",
     "text": [
      "{\n",
      "    \"this\": \"succeeded\",\n",
      "    \"by\": \"dweeting\",\n",
      "    \"the\": \"dweet\",\n",
      "    \"with\": {\n",
      "        \"thing\": \"PPSensor1\",\n",
      "        \"created\": \"2025-09-16T13:51:14+00:00\",\n",
      "        \"content\": {\n",
      "            \"hello\": \"world\"\n",
      "        }\n",
      "    }\n",
      "}\n"
     ]
    }
   ],
   "source": [
    "# To create Thing for receive data\n",
    "my_thing_name = \"PPSensor1\"\n",
    "r = requests.get(\"https://dweet.cc/dweet/for/\"+my_thing_name+\"?hello=world\")\n",
    "print(r.text) # response message in str"
   ]
  },
  {
   "cell_type": "code",
   "execution_count": 3,
   "metadata": {},
   "outputs": [
    {
     "data": {
      "text/plain": [
       "str"
      ]
     },
     "execution_count": 3,
     "metadata": {},
     "output_type": "execute_result"
    }
   ],
   "source": [
    "type(r.text) "
   ]
  },
  {
   "cell_type": "code",
   "execution_count": 4,
   "metadata": {},
   "outputs": [
    {
     "data": {
      "text/plain": [
       "{'this': 'succeeded',\n",
       " 'by': 'dweeting',\n",
       " 'the': 'dweet',\n",
       " 'with': {'thing': 'PPSensor1',\n",
       "  'created': '2025-09-16T13:51:14+00:00',\n",
       "  'content': {'hello': 'world'}}}"
      ]
     },
     "execution_count": 4,
     "metadata": {},
     "output_type": "execute_result"
    }
   ],
   "source": [
    "r.json() # response message in dict"
   ]
  },
  {
   "cell_type": "code",
   "execution_count": 5,
   "metadata": {},
   "outputs": [
    {
     "data": {
      "text/plain": [
       "dict"
      ]
     },
     "execution_count": 5,
     "metadata": {},
     "output_type": "execute_result"
    }
   ],
   "source": [
    "type(r.json())"
   ]
  },
  {
   "cell_type": "markdown",
   "metadata": {},
   "source": [
    "----"
   ]
  },
  {
   "cell_type": "markdown",
   "metadata": {},
   "source": [
    "### Send data from thing to dweet.cc   \n",
    "use \"post\" method"
   ]
  },
  {
   "cell_type": "code",
   "execution_count": 7,
   "metadata": {},
   "outputs": [
    {
     "name": "stdout",
     "output_type": "stream",
     "text": [
      "{\n",
      "    \"this\": \"succeeded\",\n",
      "    \"by\": \"dweeting\",\n",
      "    \"the\": \"dweet\",\n",
      "    \"with\": {\n",
      "        \"thing\": \"PPSensor1\",\n",
      "        \"created\": \"2025-09-16T13:51:27+00:00\",\n",
      "        \"content\": {\n",
      "            \"Temperature\": \"25\",\n",
      "            \"Humidity\": \"55\",\n",
      "            \"Light\": \"30\"\n",
      "        }\n",
      "    }\n",
      "}\n"
     ]
    }
   ],
   "source": [
    "content = {\"Temperature\": 25, \"Humidity\":55, \"Light\": 30}\n",
    "r = requests.post(\"https://dweet.cc:443/dweet/for/\"+my_thing_name, data=content)\n",
    "print(r.text)"
   ]
  },
  {
   "cell_type": "code",
   "execution_count": 8,
   "metadata": {},
   "outputs": [
    {
     "data": {
      "text/plain": [
       "{'this': 'succeeded',\n",
       " 'by': 'dweeting',\n",
       " 'the': 'dweet',\n",
       " 'with': {'thing': 'PPSensor1',\n",
       "  'created': '2025-09-16T13:51:27+00:00',\n",
       "  'content': {'Temperature': '25', 'Humidity': '55', 'Light': '30'}}}"
      ]
     },
     "execution_count": 8,
     "metadata": {},
     "output_type": "execute_result"
    }
   ],
   "source": [
    "r.json()"
   ]
  },
  {
   "cell_type": "markdown",
   "metadata": {},
   "source": [
    "---"
   ]
  },
  {
   "cell_type": "markdown",
   "metadata": {},
   "source": [
    "### Check the data that latest post to dweet.cc \n",
    "use \"get\" method"
   ]
  },
  {
   "cell_type": "code",
   "execution_count": 9,
   "metadata": {},
   "outputs": [
    {
     "data": {
      "text/plain": [
       "{'this': 'succeeded',\n",
       " 'with': [{'thing': 'PPSensor1',\n",
       "   'created': '2025-09-16 13:51:27',\n",
       "   'content': {'Temperature': '25', 'Humidity': '55', 'Light': '30'}}]}"
      ]
     },
     "execution_count": 9,
     "metadata": {},
     "output_type": "execute_result"
    }
   ],
   "source": [
    "r = requests.get(\"https://dweet.cc:443/get/latest/dweet/for/PPSensor1\")\n",
    "r.json()"
   ]
  },
  {
   "cell_type": "code",
   "execution_count": 10,
   "metadata": {},
   "outputs": [
    {
     "data": {
      "text/plain": [
       "[{'thing': 'PPSensor1',\n",
       "  'created': '2025-09-16 13:51:27',\n",
       "  'content': {'Temperature': '25', 'Humidity': '55', 'Light': '30'}}]"
      ]
     },
     "execution_count": 10,
     "metadata": {},
     "output_type": "execute_result"
    }
   ],
   "source": [
    "r.json()['with']"
   ]
  },
  {
   "cell_type": "code",
   "execution_count": null,
   "metadata": {},
   "outputs": [],
   "source": []
  }
 ],
 "metadata": {
  "kernelspec": {
   "display_name": "Python 3 (ipykernel)",
   "language": "python",
   "name": "python3"
  },
  "language_info": {
   "codemirror_mode": {
    "name": "ipython",
    "version": 3
   },
   "file_extension": ".py",
   "mimetype": "text/x-python",
   "name": "python",
   "nbconvert_exporter": "python",
   "pygments_lexer": "ipython3",
   "version": "3.11.13"
  },
  "vscode": {
   "interpreter": {
    "hash": "aee8b7b246df8f9039afb4144a1f6fd8d2ca17a180786b69acc140d282b71a49"
   }
  }
 },
 "nbformat": 4,
 "nbformat_minor": 4
}
