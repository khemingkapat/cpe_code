{
 "cells": [
  {
   "attachments": {},
   "cell_type": "markdown",
   "metadata": {},
   "source": [
    "# Publisher\n",
    "**Run this for being a Publisher**   \n",
    "Publish data to **topic: \"CPE_DEMO_HOUSE/room1\"**   \n",
    "\n",
    "MQTT uses a TCP/IP connection  \n",
    "This connection is normally left open by the client so that is can send and recieive data at any time  \n",
    "\n",
    "if no data flows over an open connection fo a certain **time period** then the client will generate a **PINGREQ** and expect to receive a **PINGRESP** from the broker  \n",
    "This message exchange confirms that the connection is open and working   \n",
    "This **time period** is called **keep alive period**"
   ]
  },
  {
   "cell_type": "code",
   "execution_count": 2,
   "metadata": {},
   "outputs": [],
   "source": [
    "#!pip install paho-mqtt"
   ]
  },
  {
   "cell_type": "code",
   "execution_count": 3,
   "metadata": {},
   "outputs": [
    {
     "name": "stderr",
     "output_type": "stream",
     "text": [
      "/tmp/nix-shell.d4q1AX/ipykernel_46934/418432448.py:11: DeprecationWarning: Callback API version 1 is deprecated, update to latest version\n",
      "  client = mqtt.Client()\n"
     ]
    },
    {
     "data": {
      "text/plain": [
       "<MQTTErrorCode.MQTT_ERR_SUCCESS: 0>"
      ]
     },
     "execution_count": 3,
     "metadata": {},
     "output_type": "execute_result"
    }
   ],
   "source": [
    "import paho.mqtt.client as mqtt\n",
    "MQTT_HOST = \"broker.mqttdashboard.com\"\n",
    "MQTT_PORT = 1883\n",
    "MQTT_KEEPALIVE_INTERVAL = 60 #60 seconds\n",
    "MQTT_TOPIC = \"CPE_DEMO_HOUSE/room1\"\n",
    "\n",
    "def on_publish(self,client,userdata):\n",
    "    print(\"Message Published...\")\n",
    "\n",
    "\n",
    "client = mqtt.Client()\n",
    "client.on_publish = on_publish\n",
    "client.connect(MQTT_HOST,MQTT_PORT,MQTT_KEEPALIVE_INTERVAL)\n"
   ]
  },
  {
   "cell_type": "code",
   "execution_count": 8,
   "metadata": {},
   "outputs": [
    {
     "name": "stdout",
     "output_type": "stream",
     "text": [
      "Message Published...\n"
     ]
    },
    {
     "data": {
      "text/plain": [
       "<paho.mqtt.client.MQTTMessageInfo at 0x7fffd49d98a0>"
      ]
     },
     "execution_count": 8,
     "metadata": {},
     "output_type": "execute_result"
    }
   ],
   "source": [
    "MQTT_MSG = \"Hello World!\"\n",
    "client.publish(MQTT_TOPIC,MQTT_MSG,qos=0,retain=True)"
   ]
  },
  {
   "cell_type": "markdown",
   "metadata": {},
   "source": [
    "Publish as JSON format"
   ]
  },
  {
   "cell_type": "code",
   "execution_count": 7,
   "metadata": {},
   "outputs": [
    {
     "name": "stdout",
     "output_type": "stream",
     "text": [
      "Message Published...\n"
     ]
    },
    {
     "data": {
      "text/plain": [
       "<paho.mqtt.client.MQTTMessageInfo at 0x7fffd49d93f0>"
      ]
     },
     "execution_count": 7,
     "metadata": {},
     "output_type": "execute_result"
    }
   ],
   "source": [
    "import json\n",
    "message = { \"Temperature\":35,\n",
    "            \"Humidity\":90,\n",
    "            \"Light\": 138}\n",
    "\n",
    "MQTT_MSG = json.dumps(message)\n",
    "client.publish(MQTT_TOPIC,MQTT_MSG,qos=0,retain=True)"
   ]
  },
  {
   "cell_type": "markdown",
   "metadata": {},
   "source": [
    "----"
   ]
  }
 ],
 "metadata": {
  "kernelspec": {
   "display_name": "Python 3 (ipykernel)",
   "language": "python",
   "name": "python3"
  },
  "language_info": {
   "codemirror_mode": {
    "name": "ipython",
    "version": 3
   },
   "file_extension": ".py",
   "mimetype": "text/x-python",
   "name": "python",
   "nbconvert_exporter": "python",
   "pygments_lexer": "ipython3",
   "version": "3.11.13"
  }
 },
 "nbformat": 4,
 "nbformat_minor": 4
}
