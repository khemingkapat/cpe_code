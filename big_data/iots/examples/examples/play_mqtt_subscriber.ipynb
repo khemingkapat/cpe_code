{
 "cells": [
  {
   "cell_type": "markdown",
   "metadata": {},
   "source": [
    "# Subscriber\n",
    "**Run this for being a Subscriber**   \n",
    "Subscribe to **topic: \"CPE_HOUSE/room1\"**   \n",
    "\n",
    "Clients can subscribe to the exact topic of a published message or use wildcards to subscribe to multiple topics at the same time <br>\n",
    "A wildcard can only be used to subscribe to topics, not to publish a message\n"
   ]
  },
  {
   "cell_type": "markdown",
   "metadata": {},
   "source": [
    "Test publish from this site:\n",
    "https://www.hivemq.com/demos/websocket-client/\n",
    "\n",
    "and run code below for see the result"
   ]
  },
  {
   "cell_type": "code",
   "execution_count": null,
   "metadata": {},
   "outputs": [
    {
     "name": "stderr",
     "output_type": "stream",
     "text": [
      "/tmp/nix-shell.d4q1AX/ipykernel_46962/2369282041.py:18: DeprecationWarning: Callback API version 1 is deprecated, update to latest version\n",
      "  client = mqtt.Client()\n"
     ]
    },
    {
     "name": "stdout",
     "output_type": "stream",
     "text": [
      "MQTT Connected.\n",
      "message received...\n",
      "CPE_DEMO_HOUSE/room2 0 {\"Temperature\": 35, \"Humidity\": 60, \"Light\": 138}\n",
      "message received...\n",
      "CPE_DEMO_HOUSE/room1 0 {\"Temperature\": 35, \"Humidity\": 60, \"Light\": 138}\n",
      "message received...\n",
      "CPE_DEMO_HOUSE/room1 0 {\"Temperature\": 35, \"Humidity\": 60, \"Light\": 138}\n",
      "message received...\n",
      "CPE_DEMO_HOUSE/room1 0 {\"Temperature\": 35, \"Humidity\": 90, \"Light\": 138}\n",
      "message received...\n",
      "CPE_DEMO_HOUSE/room1 0 Hello World!\n"
     ]
    }
   ],
   "source": [
    "import paho.mqtt.client as mqtt\n",
    "MQTT_HOST = \"broker.mqttdashboard.com\"\n",
    "MQTT_PORT = 1883\n",
    "MQTT_KEEPALIVE_INTERVAL = 45 #45 seconds\n",
    "MQTT_TOPIC = \"CPE_DEMO_HOUSE/#\"\n",
    "\n",
    "def on_connect(self,client, userdata, rc):\n",
    "    print(\"MQTT Connected.\")\n",
    "    self.subscribe(MQTT_TOPIC)\n",
    "    # add more subscribe ...\n",
    "    # e.g.;\n",
    "    # self.subscribe(\"CPE_DEMO_HOUSE/room2/#\")\n",
    "\n",
    "def on_message(client, userdata, msg):\n",
    "    print(\"message received...\")\n",
    "    print(msg.topic + \" \"+ str(msg.qos) + \" \" + str(msg.payload.decode(\"utf-8\",\"strict\")))\n",
    "\n",
    "client = mqtt.Client()\n",
    "client.on_connect = on_connect\n",
    "client.on_message = on_message\n",
    "client.connect(MQTT_HOST)\n",
    "client.loop_forever()"
   ]
  },
  {
   "cell_type": "code",
   "execution_count": null,
   "metadata": {},
   "outputs": [],
   "source": []
  }
 ],
 "metadata": {
  "kernelspec": {
   "display_name": "Python 3 (ipykernel)",
   "language": "python",
   "name": "python3"
  },
  "language_info": {
   "codemirror_mode": {
    "name": "ipython",
    "version": 3
   },
   "file_extension": ".py",
   "mimetype": "text/x-python",
   "name": "python",
   "nbconvert_exporter": "python",
   "pygments_lexer": "ipython3",
   "version": "3.11.13"
  }
 },
 "nbformat": 4,
 "nbformat_minor": 4
}
