{
 "cells": [
  {
   "cell_type": "markdown",
   "metadata": {},
   "source": [
    "# CPE232 Supplement: Cross Validation "
   ]
  },
  {
   "cell_type": "markdown",
   "metadata": {},
   "source": [
    "## k-fold Cross Validation "
   ]
  },
  {
   "cell_type": "code",
   "execution_count": 22,
   "metadata": {},
   "outputs": [],
   "source": [
    "import numpy as np\n",
    "\n",
    "# Sample dataset (X: Features, y: Labels)\n",
    "X = np.array([\n",
    "    [2, 3], [3, 5], [5, 8], [7, 10], [9, 12], \n",
    "    [11, 15], [13, 17], [15, 19], [17, 21], [19, 23]\n",
    "])\n",
    "y = np.array([0, 0, 0, 0, 0, 1, 1, 1, 1, 1])  # Binary classification labels"
   ]
  },
  {
   "cell_type": "markdown",
   "metadata": {},
   "source": [
    "Let's see our dataset"
   ]
  },
  {
   "cell_type": "code",
   "execution_count": 23,
   "metadata": {},
   "outputs": [
    {
     "data": {
      "text/plain": [
       "array([[ 2,  3],\n",
       "       [ 3,  5],\n",
       "       [ 5,  8],\n",
       "       [ 7, 10],\n",
       "       [ 9, 12],\n",
       "       [11, 15],\n",
       "       [13, 17],\n",
       "       [15, 19],\n",
       "       [17, 21],\n",
       "       [19, 23]])"
      ]
     },
     "execution_count": 23,
     "metadata": {},
     "output_type": "execute_result"
    }
   ],
   "source": [
    "X"
   ]
  },
  {
   "cell_type": "markdown",
   "metadata": {},
   "source": [
    "And its corresponding labels"
   ]
  },
  {
   "cell_type": "code",
   "execution_count": 24,
   "metadata": {},
   "outputs": [
    {
     "data": {
      "text/plain": [
       "array([0, 0, 0, 0, 0, 1, 1, 1, 1, 1])"
      ]
     },
     "execution_count": 24,
     "metadata": {},
     "output_type": "execute_result"
    }
   ],
   "source": [
    "y"
   ]
  },
  {
   "cell_type": "markdown",
   "metadata": {},
   "source": [
    "Specify number of folds and size of each fold"
   ]
  },
  {
   "cell_type": "code",
   "execution_count": 25,
   "metadata": {},
   "outputs": [],
   "source": [
    "# Number of folds\n",
    "k = 5\n",
    "fold_size = len(X) // k"
   ]
  },
  {
   "cell_type": "code",
   "execution_count": 26,
   "metadata": {},
   "outputs": [
    {
     "data": {
      "text/plain": [
       "2"
      ]
     },
     "execution_count": 26,
     "metadata": {},
     "output_type": "execute_result"
    }
   ],
   "source": [
    "fold_size"
   ]
  },
  {
   "cell_type": "markdown",
   "metadata": {},
   "source": [
    "Shuffle the data"
   ]
  },
  {
   "cell_type": "code",
   "execution_count": 27,
   "metadata": {},
   "outputs": [],
   "source": [
    "# Shuffle the dataset\n",
    "indices = np.arange(len(X))\n",
    "np.random.shuffle(indices)"
   ]
  },
  {
   "cell_type": "code",
   "execution_count": 28,
   "metadata": {},
   "outputs": [],
   "source": [
    "X_shuffled = X[indices]\n",
    "y_shuffled = y[indices]"
   ]
  },
  {
   "cell_type": "markdown",
   "metadata": {},
   "source": [
    "Let's compare before and after shuffled"
   ]
  },
  {
   "cell_type": "code",
   "execution_count": 29,
   "metadata": {},
   "outputs": [
    {
     "name": "stdout",
     "output_type": "stream",
     "text": [
      "Before shuffled: \n",
      "[[ 2  3]\n",
      " [ 3  5]\n",
      " [ 5  8]\n",
      " [ 7 10]\n",
      " [ 9 12]\n",
      " [11 15]\n",
      " [13 17]\n",
      " [15 19]\n",
      " [17 21]\n",
      " [19 23]]\n",
      "\n",
      "After shuffled: \n",
      "[[ 7 10]\n",
      " [11 15]\n",
      " [ 9 12]\n",
      " [17 21]\n",
      " [ 3  5]\n",
      " [19 23]\n",
      " [ 5  8]\n",
      " [ 2  3]\n",
      " [13 17]\n",
      " [15 19]]\n"
     ]
    }
   ],
   "source": [
    "print('Before shuffled: ')\n",
    "print(X)\n",
    "\n",
    "print('\\nAfter shuffled: ')\n",
    "print(X_shuffled)"
   ]
  },
  {
   "cell_type": "markdown",
   "metadata": {},
   "source": [
    "Now, see how the data has been split into each fold"
   ]
  },
  {
   "cell_type": "code",
   "execution_count": 30,
   "metadata": {},
   "outputs": [
    {
     "name": "stdout",
     "output_type": "stream",
     "text": [
      "\n",
      "==================\n",
      "fold:  0\n",
      "Test start from: 0 to: 1\n",
      "[[ 7 10]\n",
      " [11 15]]\n",
      "\n",
      "The rest goes to Training set.\n",
      "[[ 9 12]\n",
      " [17 21]\n",
      " [ 3  5]\n",
      " [19 23]\n",
      " [ 5  8]\n",
      " [ 2  3]\n",
      " [13 17]\n",
      " [15 19]]\n",
      "\n",
      "==================\n",
      "fold:  1\n",
      "Test start from: 2 to: 3\n",
      "[[ 9 12]\n",
      " [17 21]]\n",
      "\n",
      "The rest goes to Training set.\n",
      "[[ 7 10]\n",
      " [11 15]\n",
      " [ 3  5]\n",
      " [19 23]\n",
      " [ 5  8]\n",
      " [ 2  3]\n",
      " [13 17]\n",
      " [15 19]]\n",
      "\n",
      "==================\n",
      "fold:  2\n",
      "Test start from: 4 to: 5\n",
      "[[ 3  5]\n",
      " [19 23]]\n",
      "\n",
      "The rest goes to Training set.\n",
      "[[ 7 10]\n",
      " [11 15]\n",
      " [ 9 12]\n",
      " [17 21]\n",
      " [ 5  8]\n",
      " [ 2  3]\n",
      " [13 17]\n",
      " [15 19]]\n",
      "\n",
      "==================\n",
      "fold:  3\n",
      "Test start from: 6 to: 7\n",
      "[[5 8]\n",
      " [2 3]]\n",
      "\n",
      "The rest goes to Training set.\n",
      "[[ 7 10]\n",
      " [11 15]\n",
      " [ 9 12]\n",
      " [17 21]\n",
      " [ 3  5]\n",
      " [19 23]\n",
      " [13 17]\n",
      " [15 19]]\n",
      "\n",
      "==================\n",
      "fold:  4\n",
      "Test start from: 8 to: 9\n",
      "[[13 17]\n",
      " [15 19]]\n",
      "\n",
      "The rest goes to Training set.\n",
      "[[ 7 10]\n",
      " [11 15]\n",
      " [ 9 12]\n",
      " [17 21]\n",
      " [ 3  5]\n",
      " [19 23]\n",
      " [ 5  8]\n",
      " [ 2  3]]\n"
     ]
    }
   ],
   "source": [
    "# Store accuracies for each fold\n",
    "accuracies = []\n",
    "\n",
    "# Perform 5-fold cross-validation\n",
    "for i in range(k):\n",
    "    print('\\n==================\\nfold: ',i)\n",
    "\n",
    "    # Split data into training and test sets\n",
    "    start = i * fold_size\n",
    "    end = (i + 1) * fold_size\n",
    "\n",
    "    print('Test start from: %d to: %d'%(start,end-1))\n",
    "    X_test, y_test = X_shuffled[start:end], y_shuffled[start:end]\n",
    "    print(X_test)\n",
    "\n",
    "    X_train = np.concatenate((X_shuffled[:start], X_shuffled[end:]), axis=0)\n",
    "    y_train = np.concatenate((y_shuffled[:start], y_shuffled[end:]), axis=0)\n",
    "    print('\\nThe rest goes to Training set.')\n",
    "    print(X_train)"
   ]
  },
  {
   "cell_type": "markdown",
   "metadata": {},
   "source": [
    "## Stratified k-fold Cross Validation"
   ]
  },
  {
   "cell_type": "markdown",
   "metadata": {},
   "source": [
    "In the case below, our dataset is imbalanced.\n",
    "\n",
    "Given this scenario, stratified k-fold cross validation is more suitable because it ensures that each fold contains a balanced representation of the original dataset."
   ]
  },
  {
   "cell_type": "code",
   "execution_count": 31,
   "metadata": {},
   "outputs": [],
   "source": [
    "import numpy as np\n",
    "\n",
    "# Dataset with imbalanced classes \n",
    "X = np.array([\n",
    "    [2, 3], [3, 5], [5, 8], [7, 10], [9, 12], \n",
    "    [11, 15], [13, 17], [15, 19], [17, 21], [19, 23],\n",
    "    [21, 25], [23, 27], [25, 29], [27, 31], [29, 33]\n",
    "])\n",
    "y = np.array([0, 0, 0, 0, 0, 0, 0, 0, 0, 0, 1, 1, 1, 1, 1])  # Class 0 is dominant\n"
   ]
  },
  {
   "cell_type": "code",
   "execution_count": 32,
   "metadata": {},
   "outputs": [],
   "source": [
    "# Number of folds\n",
    "k = 5\n",
    "\n",
    "# Store accuracy results\n",
    "accuracies = []"
   ]
  },
  {
   "cell_type": "markdown",
   "metadata": {},
   "source": [
    "Separate data by class (0 and 1)"
   ]
  },
  {
   "cell_type": "code",
   "execution_count": 33,
   "metadata": {},
   "outputs": [],
   "source": [
    "class_0_indices = np.where(y == 0)[0]\n",
    "class_1_indices = np.where(y == 1)[0]"
   ]
  },
  {
   "cell_type": "markdown",
   "metadata": {},
   "source": [
    "These are IDs of data samples that are labeled 0. There are 10 of them."
   ]
  },
  {
   "cell_type": "code",
   "execution_count": 34,
   "metadata": {},
   "outputs": [
    {
     "data": {
      "text/plain": [
       "array([0, 1, 2, 3, 4, 5, 6, 7, 8, 9])"
      ]
     },
     "execution_count": 34,
     "metadata": {},
     "output_type": "execute_result"
    }
   ],
   "source": [
    "class_0_indices"
   ]
  },
  {
   "cell_type": "markdown",
   "metadata": {},
   "source": [
    "While these are IDs of data samples that are labeled 1, only 5 of them."
   ]
  },
  {
   "cell_type": "code",
   "execution_count": 35,
   "metadata": {},
   "outputs": [
    {
     "data": {
      "text/plain": [
       "array([10, 11, 12, 13, 14])"
      ]
     },
     "execution_count": 35,
     "metadata": {},
     "output_type": "execute_result"
    }
   ],
   "source": [
    "class_1_indices"
   ]
  },
  {
   "cell_type": "markdown",
   "metadata": {},
   "source": [
    "Shuffle them up!"
   ]
  },
  {
   "cell_type": "code",
   "execution_count": 36,
   "metadata": {},
   "outputs": [],
   "source": [
    "# Shuffle indices for randomness\n",
    "np.random.shuffle(class_0_indices)\n",
    "np.random.shuffle(class_1_indices)"
   ]
  },
  {
   "cell_type": "markdown",
   "metadata": {},
   "source": [
    "Split each class into k folds"
   ]
  },
  {
   "cell_type": "code",
   "execution_count": 37,
   "metadata": {},
   "outputs": [],
   "source": [
    "# Split each class into k folds\n",
    "folds_0 = np.array_split(class_0_indices, k)\n",
    "folds_1 = np.array_split(class_1_indices, k)"
   ]
  },
  {
   "cell_type": "markdown",
   "metadata": {},
   "source": [
    "Since we have 10 samples of class 0, we divide them into 5 folds of size 2 each."
   ]
  },
  {
   "cell_type": "code",
   "execution_count": 38,
   "metadata": {},
   "outputs": [
    {
     "data": {
      "text/plain": [
       "[array([4, 9]), array([0, 1]), array([5, 3]), array([6, 7]), array([8, 2])]"
      ]
     },
     "execution_count": 38,
     "metadata": {},
     "output_type": "execute_result"
    }
   ],
   "source": [
    "folds_0"
   ]
  },
  {
   "cell_type": "markdown",
   "metadata": {},
   "source": [
    "Likewise, since we have 5 samples of class 1, we divide them into 5 folds of size 1 each."
   ]
  },
  {
   "cell_type": "code",
   "execution_count": 39,
   "metadata": {},
   "outputs": [
    {
     "data": {
      "text/plain": [
       "[array([11]), array([10]), array([13]), array([12]), array([14])]"
      ]
     },
     "execution_count": 39,
     "metadata": {},
     "output_type": "execute_result"
    }
   ],
   "source": [
    "folds_1"
   ]
  },
  {
   "cell_type": "markdown",
   "metadata": {},
   "source": [
    "For each fold:\n",
    "- Take one mini-fold from class 0 and one mini-fold from class 1 as the test set.\n",
    "- Use the remaining folds as the training set.\n",
    "- This ensures that each fold contains both classes in approximately the same ratio."
   ]
  },
  {
   "cell_type": "markdown",
   "metadata": {},
   "source": [
    "For example, for the first fold..."
   ]
  },
  {
   "cell_type": "code",
   "execution_count": 40,
   "metadata": {},
   "outputs": [
    {
     "name": "stdout",
     "output_type": "stream",
     "text": [
      "Data points in test set (IDs):  [ 4  9 11]\n",
      "[[ 9 12]\n",
      " [19 23]\n",
      " [23 27]]\n",
      "\n",
      "Data points in training set (IDs):  [ 0  1  5  3  6  7  8  2 11 10 13 12 14]\n",
      "[[ 2  3]\n",
      " [ 3  5]\n",
      " [11 15]\n",
      " [ 7 10]\n",
      " [13 17]\n",
      " [15 19]\n",
      " [17 21]\n",
      " [ 5  8]\n",
      " [23 27]\n",
      " [21 25]\n",
      " [27 31]\n",
      " [25 29]\n",
      " [29 33]]\n"
     ]
    }
   ],
   "source": [
    "# Split each class into k folds\n",
    "folds_0 = np.array_split(class_0_indices, k)\n",
    "folds_1 = np.array_split(class_1_indices, k)\n",
    "\n",
    "# Display the test and train sets for the first fold\n",
    "test_indices = np.concatenate((folds_0[0], folds_1[0]))  # Test set for the first fold\n",
    "X_test, y_test = X[test_indices], y[test_indices]\n",
    "print('Data points in test set (IDs): ',test_indices)\n",
    "print(X_test)\n",
    "\n",
    "# Adjust to make sure the training set contains exactly 12 samples\n",
    "train_indices = np.concatenate([fold for j, fold in enumerate(folds_0 + folds_1) if j != 0])  # Training set (exclude fold 0)\n",
    "X_train, y_train = X[train_indices], y[train_indices]\n",
    "print('\\nData points in training set (IDs): ',train_indices)\n",
    "print(X_train)"
   ]
  },
  {
   "cell_type": "markdown",
   "metadata": {},
   "source": [
    "Is the code above correct? \n",
    "\n",
    "If not, fix it."
   ]
  },
  {
   "cell_type": "code",
   "execution_count": 41,
   "metadata": {},
   "outputs": [],
   "source": [
    "# Write your code here"
   ]
  },
  {
   "cell_type": "markdown",
   "metadata": {},
   "source": [
    "## Using Library for Stratified k-fold"
   ]
  },
  {
   "cell_type": "code",
   "execution_count": 42,
   "metadata": {},
   "outputs": [
    {
     "name": "stdout",
     "output_type": "stream",
     "text": [
      "\n",
      "Fold 1\n",
      "Train indices: [ 2  3  4  5  6  7  8  9 11 12 13 14]\n",
      "Test indices: [ 0  1 10]\n",
      "X_train: [[ 5  8]\n",
      " [ 7 10]\n",
      " [ 9 12]\n",
      " [11 15]\n",
      " [13 17]\n",
      " [15 19]\n",
      " [17 21]\n",
      " [19 23]\n",
      " [23 27]\n",
      " [25 29]\n",
      " [27 31]\n",
      " [29 33]]\n",
      "y_train: [0 0 0 0 0 0 0 0 1 1 1 1]\n",
      "X_test: [[ 2  3]\n",
      " [ 3  5]\n",
      " [21 25]]\n",
      "y_test: [0 0 1]\n",
      "\n",
      "Fold 2\n",
      "Train indices: [ 0  1  4  5  6  7  8  9 10 12 13 14]\n",
      "Test indices: [ 2  3 11]\n",
      "X_train: [[ 2  3]\n",
      " [ 3  5]\n",
      " [ 9 12]\n",
      " [11 15]\n",
      " [13 17]\n",
      " [15 19]\n",
      " [17 21]\n",
      " [19 23]\n",
      " [21 25]\n",
      " [25 29]\n",
      " [27 31]\n",
      " [29 33]]\n",
      "y_train: [0 0 0 0 0 0 0 0 1 1 1 1]\n",
      "X_test: [[ 5  8]\n",
      " [ 7 10]\n",
      " [23 27]]\n",
      "y_test: [0 0 1]\n",
      "\n",
      "Fold 3\n",
      "Train indices: [ 0  1  2  3  6  7  8  9 10 11 13 14]\n",
      "Test indices: [ 4  5 12]\n",
      "X_train: [[ 2  3]\n",
      " [ 3  5]\n",
      " [ 5  8]\n",
      " [ 7 10]\n",
      " [13 17]\n",
      " [15 19]\n",
      " [17 21]\n",
      " [19 23]\n",
      " [21 25]\n",
      " [23 27]\n",
      " [27 31]\n",
      " [29 33]]\n",
      "y_train: [0 0 0 0 0 0 0 0 1 1 1 1]\n",
      "X_test: [[ 9 12]\n",
      " [11 15]\n",
      " [25 29]]\n",
      "y_test: [0 0 1]\n",
      "\n",
      "Fold 4\n",
      "Train indices: [ 0  1  2  3  4  5  8  9 10 11 12 14]\n",
      "Test indices: [ 6  7 13]\n",
      "X_train: [[ 2  3]\n",
      " [ 3  5]\n",
      " [ 5  8]\n",
      " [ 7 10]\n",
      " [ 9 12]\n",
      " [11 15]\n",
      " [17 21]\n",
      " [19 23]\n",
      " [21 25]\n",
      " [23 27]\n",
      " [25 29]\n",
      " [29 33]]\n",
      "y_train: [0 0 0 0 0 0 0 0 1 1 1 1]\n",
      "X_test: [[13 17]\n",
      " [15 19]\n",
      " [27 31]]\n",
      "y_test: [0 0 1]\n",
      "\n",
      "Fold 5\n",
      "Train indices: [ 0  1  2  3  4  5  6  7 10 11 12 13]\n",
      "Test indices: [ 8  9 14]\n",
      "X_train: [[ 2  3]\n",
      " [ 3  5]\n",
      " [ 5  8]\n",
      " [ 7 10]\n",
      " [ 9 12]\n",
      " [11 15]\n",
      " [13 17]\n",
      " [15 19]\n",
      " [21 25]\n",
      " [23 27]\n",
      " [25 29]\n",
      " [27 31]]\n",
      "y_train: [0 0 0 0 0 0 0 0 1 1 1 1]\n",
      "X_test: [[17 21]\n",
      " [19 23]\n",
      " [29 33]]\n",
      "y_test: [0 0 1]\n"
     ]
    }
   ],
   "source": [
    "import numpy as np\n",
    "from sklearn.model_selection import StratifiedKFold\n",
    "\n",
    "# Example dataset (imbalanced classes)\n",
    "X = np.array([\n",
    "    [2, 3], [3, 5], [5, 8], [7, 10], [9, 12], \n",
    "    [11, 15], [13, 17], [15, 19], [17, 21], [19, 23],\n",
    "    [21, 25], [23, 27], [25, 29], [27, 31], [29, 33]\n",
    "])\n",
    "\n",
    "y = np.array([0, 0, 0, 0, 0, 0, 0, 0, 0, 0, 1, 1, 1, 1, 1])  # Class 0 is dominant\n",
    "\n",
    "# Define StratifiedKFold with 5 splits\n",
    "kf = StratifiedKFold(n_splits=5)\n",
    "\n",
    "# Loop through the folds and display the indices for training and test sets\n",
    "for fold, (train_idx, test_idx) in enumerate(kf.split(X, y)):\n",
    "    print(f\"\\nFold {fold+1}\")\n",
    "    print(\"Train indices:\", train_idx)\n",
    "    print(\"Test indices:\", test_idx)\n",
    "    \n",
    "    # Display train and test sets\n",
    "    X_train, X_test = X[train_idx], X[test_idx]\n",
    "    y_train, y_test = y[train_idx], y[test_idx]\n",
    "    \n",
    "    print(\"X_train:\", X_train)\n",
    "    print(\"y_train:\", y_train)\n",
    "    print(\"X_test:\", X_test)\n",
    "    print(\"y_test:\", y_test)\n"
   ]
  }
 ],
 "metadata": {
  "kernelspec": {
   "display_name": "Python 3 (ipykernel)",
   "language": "python",
   "name": "python3"
  },
  "language_info": {
   "codemirror_mode": {
    "name": "ipython",
    "version": 3
   },
   "file_extension": ".py",
   "mimetype": "text/x-python",
   "name": "python",
   "nbconvert_exporter": "python",
   "pygments_lexer": "ipython3",
   "version": "3.11.10"
  },
  "vscode": {
   "interpreter": {
    "hash": "1a1af0ee75eeea9e2e1ee996c87e7a2b11a0bebd85af04bb136d915cefc0abce"
   }
  }
 },
 "nbformat": 4,
 "nbformat_minor": 4
}
