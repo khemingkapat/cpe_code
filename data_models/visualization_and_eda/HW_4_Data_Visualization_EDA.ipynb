{
 "cells": [
  {
   "cell_type": "markdown",
   "metadata": {
    "id": "3V1ElDaoyK4_"
   },
   "source": [
    "# Lab 4: Data Visualization and EDA\n",
    "\n",
    "#### CPE232 Data Models\n",
    "\n",
    "---"
   ]
  },
  {
   "cell_type": "markdown",
   "metadata": {
    "id": "GK704HA_yK5B"
   },
   "source": [
    "1. Load all Superstore datasets.\n",
    "\n",
    "*Note: The same datasets used in Lab 3*"
   ]
  },
  {
   "cell_type": "code",
   "execution_count": 2,
   "metadata": {
    "id": "9M5-wxlbyK5B"
   },
   "outputs": [],
   "source": [
    "import numpy as np\n",
    "import pandas as pd\n",
    "\n",
    "order_df = pd.read_csv(\"Superstore/superstore_order.csv\")\n",
    "people_df = pd.read_csv(\"Superstore/superstore_people.csv\")\n",
    "return_df = pd.read_csv(\"Superstore/superstore_return.csv\")"
   ]
  },
  {
   "cell_type": "markdown",
   "metadata": {
    "id": "eSbZ_QZxyK5C"
   },
   "source": [
    "2. Determine shape of each dataset (print out the results as well)."
   ]
  },
  {
   "cell_type": "code",
   "execution_count": 3,
   "metadata": {
    "id": "VNxmhRSiyK5C"
   },
   "outputs": [
    {
     "name": "stdout",
     "output_type": "stream",
     "text": [
      "shape of order_df : (8880, 21)\n",
      "shape of people_df : (4, 2)\n",
      "shape of return_df : (296, 2)\n"
     ]
    }
   ],
   "source": [
    "print(f\"shape of order_df : {order_df.shape}\")\n",
    "print(f\"shape of people_df : {people_df.shape}\")\n",
    "print(f\"shape of return_df : {return_df.shape}\")"
   ]
  },
  {
   "cell_type": "markdown",
   "metadata": {
    "id": "xVB-ZfUZyK5C"
   },
   "source": [
    "3. Show information of the dataset.\n"
   ]
  },
  {
   "cell_type": "code",
   "execution_count": 5,
   "metadata": {
    "id": "4n7HJxWXyK5C"
   },
   "outputs": [
    {
     "name": "stdout",
     "output_type": "stream",
     "text": [
      "<class 'pandas.core.frame.DataFrame'>\n",
      "RangeIndex: 8880 entries, 0 to 8879\n",
      "Data columns (total 21 columns):\n",
      " #   Column         Non-Null Count  Dtype  \n",
      "---  ------         --------------  -----  \n",
      " 0   Row ID         8880 non-null   int64  \n",
      " 1   Order ID       8880 non-null   object \n",
      " 2   Order Date     8880 non-null   object \n",
      " 3   Ship Date      8880 non-null   object \n",
      " 4   Ship Mode      8880 non-null   object \n",
      " 5   Customer ID    8880 non-null   object \n",
      " 6   Customer Name  8880 non-null   object \n",
      " 7   Segment        8880 non-null   object \n",
      " 8   Country        8880 non-null   object \n",
      " 9   City           8880 non-null   object \n",
      " 10  State          8880 non-null   object \n",
      " 11  Postal Code    8880 non-null   int64  \n",
      " 12  Region         8880 non-null   object \n",
      " 13  Product ID     8880 non-null   object \n",
      " 14  Category       8880 non-null   object \n",
      " 15  Sub-Category   8880 non-null   object \n",
      " 16  Product Name   8880 non-null   object \n",
      " 17  Sales          8880 non-null   float64\n",
      " 18  Quantity       8880 non-null   int64  \n",
      " 19  Discount       8880 non-null   float64\n",
      " 20  Profit         8880 non-null   float64\n",
      "dtypes: float64(3), int64(3), object(15)\n",
      "memory usage: 1.4+ MB\n",
      "<class 'pandas.core.frame.DataFrame'>\n",
      "RangeIndex: 4 entries, 0 to 3\n",
      "Data columns (total 2 columns):\n",
      " #   Column  Non-Null Count  Dtype \n",
      "---  ------  --------------  ----- \n",
      " 0   Person  4 non-null      object\n",
      " 1   Region  4 non-null      object\n",
      "dtypes: object(2)\n",
      "memory usage: 196.0+ bytes\n",
      "<class 'pandas.core.frame.DataFrame'>\n",
      "RangeIndex: 296 entries, 0 to 295\n",
      "Data columns (total 2 columns):\n",
      " #   Column    Non-Null Count  Dtype \n",
      "---  ------    --------------  ----- \n",
      " 0   Returned  296 non-null    object\n",
      " 1   Order ID  296 non-null    object\n",
      "dtypes: object(2)\n",
      "memory usage: 4.8+ KB\n"
     ]
    }
   ],
   "source": [
    "order_df.info()\n",
    "people_df.info()\n",
    "return_df.info()"
   ]
  },
  {
   "cell_type": "markdown",
   "metadata": {
    "id": "b7pvNmDkyK5D"
   },
   "source": [
    "4. Are there any missing values? If so, in which column?\n",
    "\n",
    "Ans: there is no missing value in any column. Checked by `df.info()`"
   ]
  },
  {
   "cell_type": "markdown",
   "metadata": {
    "id": "D-X0RVgeyK5D"
   },
   "source": [
    "5.\n",
    "- 5.1 List unique segments\n",
    "- 5.2 List unique segments and their corresponding count\n",
    "- 5.3 Create a pie chart to demonstrate unique segments and their count\n",
    "- 5.4 Briefly describe what could be interpreted from this pie chart\n",
    "\n",
    "*Note: please create additional cells to answer 5.2 - 5.3*"
   ]
  },
  {
   "cell_type": "code",
   "execution_count": null,
   "metadata": {
    "id": "Rvh9HTv1yK5D"
   },
   "outputs": [],
   "source": [
    "# Write your code here (5.1)"
   ]
  },
  {
   "cell_type": "markdown",
   "metadata": {
    "id": "H86laaSXyK5D"
   },
   "source": [
    "Answer for the question 5.4\n",
    "\n",
    "Ans: ________________________"
   ]
  },
  {
   "cell_type": "markdown",
   "metadata": {
    "id": "siHfjQuxyK5D"
   },
   "source": [
    "6.\n",
    "- 6.1 List unique states\n",
    "- 6.2 List top-10 unique states and their corresponding count\n",
    "- 6.3 Create a bar chart (vertical) to demonstrate the count of top-10 unique states\n",
    "- 6.4 Based on 6.2, also include the total sales of these states (show your result as a dataframe)\n",
    "- 6.5 Using the result from 6.4, if you were the owner of this superstore, what information could be interpreted from this result?\n",
    "\n",
    "*Note: please create additional cells to answer 6.2 - 6.4*"
   ]
  },
  {
   "cell_type": "code",
   "execution_count": null,
   "metadata": {
    "id": "L3wKPXNuyK5D"
   },
   "outputs": [],
   "source": [
    "# Write your code here (6.1)"
   ]
  },
  {
   "cell_type": "markdown",
   "metadata": {
    "id": "hJoRCGkJyK5E"
   },
   "source": [
    "Answer for the question 6.5\n",
    "\n",
    "Ans: ________________________"
   ]
  },
  {
   "cell_type": "markdown",
   "metadata": {
    "id": "y5_zmjQdyK5E"
   },
   "source": [
    "7.\n",
    "- 7.1 List unique categories\n",
    "- 7.2 Create a bar chart (horizontal) to demonstrate the proportion of these categories\n",
    "- 7.3 Compute the ratio of these categories in percentage and print the results\n",
    "\n",
    "*Note: please create additional cells to answer 7.2 - 7.3*"
   ]
  },
  {
   "cell_type": "code",
   "execution_count": null,
   "metadata": {
    "id": "yvtw57pOyK5E"
   },
   "outputs": [],
   "source": [
    "# Write your code here (7.1)"
   ]
  },
  {
   "cell_type": "markdown",
   "metadata": {
    "id": "N-3k0N_byK5E"
   },
   "source": [
    "8. Update the type of all columns that contain dates to *datetime* and show information after an update."
   ]
  },
  {
   "cell_type": "code",
   "execution_count": null,
   "metadata": {
    "id": "r-yW8m1OyK5E"
   },
   "outputs": [],
   "source": [
    "# write your code here"
   ]
  },
  {
   "cell_type": "markdown",
   "metadata": {
    "id": "VkQQ3aHHyK5E"
   },
   "source": [
    "9. Create a new column \"Processing time day\" to show number of days taken to ship an order and show your result in a dataframe format.\n",
    "\n",
    "*Hint: The duration starts as soon as the item has been ordered and ends once the order has successfully shipped.*"
   ]
  },
  {
   "cell_type": "code",
   "execution_count": null,
   "metadata": {
    "id": "peNFx2VkyK5E"
   },
   "outputs": [],
   "source": [
    "# write your code here"
   ]
  },
  {
   "cell_type": "markdown",
   "metadata": {
    "id": "OfOnjKMmyK5E"
   },
   "source": [
    "10. Based on the result in 9.\n",
    "- 10.1 How many orders are there that take more than 5 days to process?\n",
    "- 10.2 Show the top 5 rows (expected output should contain these columns: Order ID, Order Date, Ship Date, Processing time day, Quantity)\n",
    "- 10.3 Plot the histogram based on the column Quantity\n",
    "\n",
    "*Note: please create additional cells to answer 10.2 - 10.3*"
   ]
  },
  {
   "cell_type": "code",
   "execution_count": null,
   "metadata": {
    "id": "EBCCI8Q-yK5E"
   },
   "outputs": [],
   "source": [
    "# Write your code here (10.1)"
   ]
  },
  {
   "cell_type": "markdown",
   "metadata": {
    "id": "WQ-e2mPHkvZ8"
   },
   "source": [
    "11. Total sales compare across different regions\n",
    "  \n",
    "- 11.1 Create a bar chart to visualize."
   ]
  },
  {
   "cell_type": "code",
   "execution_count": null,
   "metadata": {
    "id": "urB9bQTGk2p-"
   },
   "outputs": [],
   "source": [
    "# Write your code here (11.1)"
   ]
  },
  {
   "cell_type": "markdown",
   "metadata": {
    "id": "1dktxz6Ek_DT"
   },
   "source": [
    "- 11.2 How do total sales compare across different regions? Explain in as much detail as possible.\n",
    "  \n",
    "  Ans:"
   ]
  },
  {
   "cell_type": "markdown",
   "metadata": {
    "id": "mntSNHvglEU2"
   },
   "source": [
    "12.Which states have the highest number of returns? Use a horizontal bar chart.\n",
    "\n",
    "Ans:"
   ]
  },
  {
   "cell_type": "code",
   "execution_count": null,
   "metadata": {
    "id": "9v3JfdS1lK4Y"
   },
   "outputs": [],
   "source": [
    "# Write your code here (12)"
   ]
  },
  {
   "cell_type": "markdown",
   "metadata": {
    "id": "duylALg5ldoG"
   },
   "source": [
    "13. What is the correlation between numerical variables in the superstore_order dataset? Use a heatmap\n",
    "*Hint: Use seaborn to create a heatmap :)*"
   ]
  },
  {
   "cell_type": "code",
   "execution_count": null,
   "metadata": {
    "id": "aMKnDEKSleUC"
   },
   "outputs": [],
   "source": [
    "# Write your code here (13)"
   ]
  },
  {
   "cell_type": "markdown",
   "metadata": {
    "id": "Qovd-spYluFP"
   },
   "source": [
    "14. Create a USA State-Level Choropleth Map to visualize total sales per state.\n",
    "\n",
    "*   The darkest color represents the highest total sales.\n",
    "*   The lightest color represents the lowest total sales.\n",
    "*   Use a continuous gradient scale (e.g., dark blue to light blue, dark red to light red, or any custom gradient of your choice).\n",
    "\n",
    "*Hint: Use plotly.express*"
   ]
  },
  {
   "cell_type": "code",
   "execution_count": null,
   "metadata": {
    "id": "JZ9pgEuGm2_9"
   },
   "outputs": [],
   "source": [
    "# Write your code here (14)"
   ]
  },
  {
   "cell_type": "markdown",
   "metadata": {
    "id": "Xp5PD5hpl0FJ"
   },
   "source": [
    "  14.2 Answer the following questions:\n",
    "1.   Which state has the highest total sales?\n",
    "2.   How do sales anomalies affect the gradient color shading on the map?\n",
    "3.   If you change the color scale, does it impact readability? Why or why not?"
   ]
  },
  {
   "cell_type": "markdown",
   "metadata": {
    "id": "0Z0fDrqRmwOp"
   },
   "source": [
    "Ans:\n",
    "\n",
    "\n",
    "1.   \n",
    "2.   \n",
    "3.\n",
    "\n"
   ]
  },
  {
   "cell_type": "markdown",
   "metadata": {
    "id": "XQ_INALln2eF"
   },
   "source": [
    "15. Create a box plot to compare the different shipping modes based on total profit."
   ]
  },
  {
   "cell_type": "code",
   "execution_count": null,
   "metadata": {
    "id": "B5COXsPAn4dF"
   },
   "outputs": [],
   "source": [
    "#Write your code here (15)"
   ]
  },
  {
   "cell_type": "markdown",
   "metadata": {
    "id": "ik5DyUTEoLpP"
   },
   "source": [
    "15.2 Which shipping mode has the highest median profit?\n",
    "\n",
    "Ans:"
   ]
  },
  {
   "cell_type": "markdown",
   "metadata": {
    "id": "dHqMrn2WyK5E"
   },
   "source": [
    "[BONUS 20 pts] Determine the percentage of customers who:\n",
    "- B1)returned the product once\n",
    "- B2) returned the product at least once\n",
    "- B3) never returned the product\n",
    "- Finally, Plot a comparison of B2 and B3\n",
    "\n",
    "*Note: please create additional cells to answer the above points*"
   ]
  },
  {
   "cell_type": "code",
   "execution_count": null,
   "metadata": {
    "id": "UvzcocHzyK5E"
   },
   "outputs": [],
   "source": [
    "# Write your code here"
   ]
  }
 ],
 "metadata": {
  "colab": {
   "provenance": []
  },
  "kernelspec": {
   "display_name": "Python 3 (ipykernel)",
   "language": "python",
   "name": "python3"
  },
  "language_info": {
   "codemirror_mode": {
    "name": "ipython",
    "version": 3
   },
   "file_extension": ".py",
   "mimetype": "text/x-python",
   "name": "python",
   "nbconvert_exporter": "python",
   "pygments_lexer": "ipython3",
   "version": "3.11.10"
  },
  "vscode": {
   "interpreter": {
    "hash": "aee8b7b246df8f9039afb4144a1f6fd8d2ca17a180786b69acc140d282b71a49"
   }
  }
 },
 "nbformat": 4,
 "nbformat_minor": 4
}
