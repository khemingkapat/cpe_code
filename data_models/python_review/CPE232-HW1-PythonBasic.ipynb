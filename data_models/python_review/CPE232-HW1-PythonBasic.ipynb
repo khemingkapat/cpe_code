{
 "cells": [
  {
   "cell_type": "markdown",
   "id": "ffb4ffb4",
   "metadata": {
    "colab_type": "text",
    "id": "view-in-github"
   },
   "source": [
    "<a href=\"https://colab.research.google.com/github/khemingkapat/cpe_code/blob/main/data_models/CPE232-HW1-PythonBasic.ipynb\" target=\"_parent\"><img src=\"https://colab.research.google.com/assets/colab-badge.svg\" alt=\"Open In Colab\"/></a>"
   ]
  },
  {
   "cell_type": "markdown",
   "id": "64e93d7b-1c77-47d7-b3e0-f77cca1258b7",
   "metadata": {
    "id": "64e93d7b-1c77-47d7-b3e0-f77cca1258b7"
   },
   "source": [
    "# HW 1: Basic Python Programming\n",
    "#### CPE232 Data Models\n",
    "---"
   ]
  },
  {
   "cell_type": "markdown",
   "id": "ccb5a923-50cb-4347-8241-904c8d3bd6f5",
   "metadata": {
    "id": "ccb5a923-50cb-4347-8241-904c8d3bd6f5"
   },
   "source": [
    "## 1. Basic usage"
   ]
  },
  {
   "cell_type": "markdown",
   "id": "fc437319-7d8c-42a6-90a3-c027dd394f55",
   "metadata": {
    "id": "fc437319-7d8c-42a6-90a3-c027dd394f55"
   },
   "source": [
    "> John Doe is a 29 years-old system engineer who earns ฿41500.00 a month."
   ]
  },
  {
   "cell_type": "markdown",
   "id": "e916ec77-882f-4770-a876-8034e505d987",
   "metadata": {
    "id": "e916ec77-882f-4770-a876-8034e505d987"
   },
   "source": [
    "Create and assign variables to store this person's information (name, age, position and salary)."
   ]
  },
  {
   "cell_type": "code",
   "execution_count": null,
   "id": "c82ab750-42b1-4942-9126-e78858848259",
   "metadata": {
    "id": "c82ab750-42b1-4942-9126-e78858848259"
   },
   "outputs": [],
   "source": [
    "# Write your code here\n",
    "name =\"John Doe\"\n",
    "age = 29\n",
    "profession = \"system_engineer\"\n",
    "salary_baht = 41500.00"
   ]
  },
  {
   "cell_type": "markdown",
   "id": "5276310d-91d8-462a-855f-713c14a399b3",
   "metadata": {
    "id": "5276310d-91d8-462a-855f-713c14a399b3"
   },
   "source": [
    "What is the type of each variables?"
   ]
  },
  {
   "cell_type": "code",
   "execution_count": null,
   "id": "51ff9507-b6ed-4fc9-bae8-32679f0ffe0f",
   "metadata": {
    "colab": {
     "base_uri": "https://localhost:8080/"
    },
    "id": "51ff9507-b6ed-4fc9-bae8-32679f0ffe0f",
    "outputId": "285922ce-4f97-4669-83cd-2f91be1d9680"
   },
   "outputs": [
    {
     "name": "stdout",
     "output_type": "stream",
     "text": [
      "name is <class 'str'>\n",
      "age is <class 'int'>\n",
      "profession is <class 'str'>\n",
      "salary_baht is <class 'float'>\n"
     ]
    }
   ],
   "source": [
    "# Write your code here\n",
    "print(f\"name is {type(name)}\")\n",
    "print(f\"age is {type(age)}\")\n",
    "print(f\"profession is {type(profession)}\")\n",
    "print(f\"salary_baht is {type(salary_baht)}\")"
   ]
  },
  {
   "cell_type": "markdown",
   "id": "e9af1002-80de-4b0b-aa53-4c555f270349",
   "metadata": {
    "id": "e9af1002-80de-4b0b-aa53-4c555f270349"
   },
   "source": [
    "The manager decides to give John a 7% raise. Update his salary."
   ]
  },
  {
   "cell_type": "code",
   "execution_count": null,
   "id": "aacfb035-65b9-47b5-9980-19ea9e325051",
   "metadata": {
    "id": "aacfb035-65b9-47b5-9980-19ea9e325051"
   },
   "outputs": [],
   "source": [
    "# Write your code here\n",
    "salary_baht = salary_baht*1.07"
   ]
  },
  {
   "cell_type": "markdown",
   "id": "b38d04d0-c43b-44c5-9a37-11d7a768a124",
   "metadata": {
    "id": "b38d04d0-c43b-44c5-9a37-11d7a768a124"
   },
   "source": [
    "Prints his information again with his new salary."
   ]
  },
  {
   "cell_type": "code",
   "execution_count": null,
   "id": "04699250-3a2e-43e4-a84c-2a5cbcf38c36",
   "metadata": {
    "colab": {
     "base_uri": "https://localhost:8080/"
    },
    "id": "04699250-3a2e-43e4-a84c-2a5cbcf38c36",
    "outputId": "895bfa94-a7d3-4e1b-ad40-b7013d008b99"
   },
   "outputs": [
    {
     "data": {
      "text/plain": [
       "44405.0"
      ]
     },
     "execution_count": 4,
     "metadata": {},
     "output_type": "execute_result"
    }
   ],
   "source": [
    "# Write your code here\n",
    "salary_baht"
   ]
  },
  {
   "cell_type": "markdown",
   "id": "590d49a7-eac2-434b-b73f-af1d2f13cca6",
   "metadata": {
    "id": "590d49a7-eac2-434b-b73f-af1d2f13cca6"
   },
   "source": [
    "Now, he decides to resign. Delete his information from the system."
   ]
  },
  {
   "cell_type": "code",
   "execution_count": null,
   "id": "f7f06b90-67cf-4e04-be79-deb29cfabdb1",
   "metadata": {
    "id": "f7f06b90-67cf-4e04-be79-deb29cfabdb1"
   },
   "outputs": [],
   "source": [
    "# Write your code here\n",
    "del name\n",
    "del age\n",
    "del profession\n",
    "del salary_baht"
   ]
  },
  {
   "cell_type": "markdown",
   "id": "077aee58-d6d1-4262-bef9-4e9a9a82a800",
   "metadata": {
    "id": "077aee58-d6d1-4262-bef9-4e9a9a82a800"
   },
   "source": [
    "## 2. Variable and Expression"
   ]
  },
  {
   "cell_type": "markdown",
   "id": "af79a9e3-db50-456c-841e-eef66ef246a9",
   "metadata": {
    "id": "af79a9e3-db50-456c-841e-eef66ef246a9"
   },
   "source": [
    "**2.1** Write a code to convert temperature unit from celcius to other units"
   ]
  },
  {
   "cell_type": "code",
   "execution_count": null,
   "id": "8dfd591f-41f0-4b73-b770-fbcf60eb983a",
   "metadata": {
    "id": "8dfd591f-41f0-4b73-b770-fbcf60eb983a"
   },
   "outputs": [],
   "source": [
    "C = 34.5"
   ]
  },
  {
   "cell_type": "markdown",
   "id": "afd0633b-76ca-4ab8-b61c-7e1f8fdf724b",
   "metadata": {
    "id": "afd0633b-76ca-4ab8-b61c-7e1f8fdf724b"
   },
   "source": [
    "**Fahrenheit**  \n",
    "#### $\\frac{C}{5} = \\frac{F-32}{9}$"
   ]
  },
  {
   "cell_type": "code",
   "execution_count": null,
   "id": "93e1649c-5724-4842-b121-82bdd2922a1b",
   "metadata": {
    "colab": {
     "base_uri": "https://localhost:8080/"
    },
    "id": "93e1649c-5724-4842-b121-82bdd2922a1b",
    "outputId": "067afd20-c90b-487a-ef2a-49c53dab5ab9"
   },
   "outputs": [
    {
     "data": {
      "text/plain": [
       "94.1"
      ]
     },
     "execution_count": 7,
     "metadata": {},
     "output_type": "execute_result"
    }
   ],
   "source": [
    "F = C*(9/5)+32\n",
    "F"
   ]
  },
  {
   "cell_type": "markdown",
   "id": "05017521-6d16-4d65-a100-e9c94e49f9d6",
   "metadata": {
    "id": "05017521-6d16-4d65-a100-e9c94e49f9d6"
   },
   "source": [
    "**Kelvin**  \n",
    "$K = C + 273.15$"
   ]
  },
  {
   "cell_type": "code",
   "execution_count": null,
   "id": "0790d13f-3a85-4bb7-b341-3796e7d81816",
   "metadata": {
    "colab": {
     "base_uri": "https://localhost:8080/"
    },
    "id": "0790d13f-3a85-4bb7-b341-3796e7d81816",
    "outputId": "d0ba64ec-0b2c-4464-c765-8ec18d627051"
   },
   "outputs": [
    {
     "data": {
      "text/plain": [
       "<function posix.kill(pid, signal, /)>"
      ]
     },
     "execution_count": 8,
     "metadata": {},
     "output_type": "execute_result"
    }
   ],
   "source": [
    "from os import kill\n",
    "K = C+273.15\n",
    "kill"
   ]
  },
  {
   "cell_type": "markdown",
   "id": "3aafb9c3-7135-4730-9f72-41919a7bf8aa",
   "metadata": {
    "id": "3aafb9c3-7135-4730-9f72-41919a7bf8aa"
   },
   "source": [
    "**Rømer**  \n",
    "#### $Ro = \\frac{C \\times 21}{40} + 7.5$"
   ]
  },
  {
   "cell_type": "code",
   "execution_count": null,
   "id": "f77ad9dd-966e-4e6e-974e-64f1796f9d2e",
   "metadata": {
    "colab": {
     "base_uri": "https://localhost:8080/"
    },
    "id": "f77ad9dd-966e-4e6e-974e-64f1796f9d2e",
    "outputId": "15b393a9-f80a-4486-b8f9-664d362ef2c1"
   },
   "outputs": [
    {
     "data": {
      "text/plain": [
       "25.6125"
      ]
     },
     "execution_count": 9,
     "metadata": {},
     "output_type": "execute_result"
    }
   ],
   "source": [
    "Ro = (C*21)/40 + 7.5\n",
    "Ro"
   ]
  },
  {
   "cell_type": "markdown",
   "id": "46be05e7-89f8-4461-989d-017343872b4a",
   "metadata": {
    "id": "46be05e7-89f8-4461-989d-017343872b4a",
    "tags": []
   },
   "source": [
    "## 3. Multi-item variables\n",
    "#### List"
   ]
  },
  {
   "cell_type": "code",
   "execution_count": null,
   "id": "bcf35687-0b65-4958-ac2b-e24627ef68d1",
   "metadata": {
    "id": "bcf35687-0b65-4958-ac2b-e24627ef68d1"
   },
   "outputs": [],
   "source": [
    "names = ['Thomas', 'Kate', 'Mike', 'Amelia', 'James', 'Megan']"
   ]
  },
  {
   "cell_type": "markdown",
   "id": "448e0cac-5140-4c01-ae36-6483e68d538b",
   "metadata": {
    "id": "448e0cac-5140-4c01-ae36-6483e68d538b"
   },
   "source": [
    "Create new variable call `new_name` which takes input name of the user."
   ]
  },
  {
   "cell_type": "code",
   "execution_count": null,
   "id": "ae8b5b8e-5718-4d6b-923d-8d3c1562c845",
   "metadata": {
    "colab": {
     "base_uri": "https://localhost:8080/"
    },
    "id": "ae8b5b8e-5718-4d6b-923d-8d3c1562c845",
    "outputId": "f55d9774-2bb3-4a69-9b3d-087607974c15"
   },
   "outputs": [
    {
     "name": "stdout",
     "output_type": "stream",
     "text": [
      "Enter your name: khem\n"
     ]
    }
   ],
   "source": [
    "new_name = input('Enter your name: ')"
   ]
  },
  {
   "cell_type": "markdown",
   "id": "46726149-c092-45ab-ae91-a3505ff28f81",
   "metadata": {
    "id": "46726149-c092-45ab-ae91-a3505ff28f81"
   },
   "source": [
    "Insert `new_name` into `names` list."
   ]
  },
  {
   "cell_type": "code",
   "execution_count": null,
   "id": "4f757eb7-5658-490e-b523-cb1c880db7fd",
   "metadata": {
    "colab": {
     "base_uri": "https://localhost:8080/"
    },
    "id": "4f757eb7-5658-490e-b523-cb1c880db7fd",
    "outputId": "7ca85179-2dac-40b3-b050-09a28f8a174f"
   },
   "outputs": [
    {
     "data": {
      "text/plain": [
       "['Thomas', 'Kate', 'Mike', 'Amelia', 'James', 'Megan', 'khem']"
      ]
     },
     "execution_count": 12,
     "metadata": {},
     "output_type": "execute_result"
    }
   ],
   "source": [
    "# Write your code here\n",
    "names.append(new_name)\n",
    "names"
   ]
  },
  {
   "cell_type": "markdown",
   "id": "4600f46e-4a21-41f7-a4b1-00e5921e134b",
   "metadata": {
    "id": "4600f46e-4a21-41f7-a4b1-00e5921e134b"
   },
   "source": [
    "Select your name from the list"
   ]
  },
  {
   "cell_type": "code",
   "execution_count": null,
   "id": "cbae27d8-6dda-45ae-9839-6513d1086384",
   "metadata": {
    "colab": {
     "base_uri": "https://localhost:8080/",
     "height": 35
    },
    "id": "cbae27d8-6dda-45ae-9839-6513d1086384",
    "outputId": "bd2301aa-3e61-47f6-f04e-77b9bae084c8"
   },
   "outputs": [
    {
     "data": {
      "application/vnd.google.colaboratory.intrinsic+json": {
       "type": "string"
      },
      "text/plain": [
       "'khem'"
      ]
     },
     "execution_count": 13,
     "metadata": {},
     "output_type": "execute_result"
    }
   ],
   "source": [
    "# Write your code here\n",
    "names[-1]"
   ]
  },
  {
   "cell_type": "markdown",
   "id": "5114e655-d67e-428b-a179-1ef8cec4da28",
   "metadata": {
    "id": "5114e655-d67e-428b-a179-1ef8cec4da28"
   },
   "source": [
    "Merge `another_names` into `names`."
   ]
  },
  {
   "cell_type": "code",
   "execution_count": null,
   "id": "330ecf29-1771-427d-a16f-f515994c617c",
   "metadata": {
    "id": "330ecf29-1771-427d-a16f-f515994c617c"
   },
   "outputs": [],
   "source": [
    "another_names = ['Peter', 'Steve', 'Sam', 'Charlotte']"
   ]
  },
  {
   "cell_type": "code",
   "execution_count": null,
   "id": "35bd286b-2303-45a4-90ec-17a84d1a91c6",
   "metadata": {
    "id": "35bd286b-2303-45a4-90ec-17a84d1a91c6"
   },
   "outputs": [],
   "source": [
    "# Write your code here\n",
    "names += another_names"
   ]
  },
  {
   "cell_type": "code",
   "execution_count": null,
   "id": "lfrDA53OLdk5",
   "metadata": {
    "colab": {
     "base_uri": "https://localhost:8080/"
    },
    "id": "lfrDA53OLdk5",
    "outputId": "e89a093f-7898-4f98-89bb-a63f5b7c2d8f"
   },
   "outputs": [
    {
     "data": {
      "text/plain": [
       "['Thomas',\n",
       " 'Kate',\n",
       " 'Mike',\n",
       " 'Amelia',\n",
       " 'James',\n",
       " 'Megan',\n",
       " 'khem',\n",
       " 'Peter',\n",
       " 'Steve',\n",
       " 'Sam',\n",
       " 'Charlotte']"
      ]
     },
     "execution_count": 16,
     "metadata": {},
     "output_type": "execute_result"
    }
   ],
   "source": [
    "names"
   ]
  },
  {
   "cell_type": "markdown",
   "id": "8326fcba-7997-42b4-979e-ef7dee45c1d4",
   "metadata": {
    "id": "8326fcba-7997-42b4-979e-ef7dee45c1d4"
   },
   "source": [
    "Change `Amelia`'s name to `Amy`"
   ]
  },
  {
   "cell_type": "code",
   "execution_count": null,
   "id": "feb53ff6-f95e-43ac-9302-d4097bdeb123",
   "metadata": {
    "id": "feb53ff6-f95e-43ac-9302-d4097bdeb123"
   },
   "outputs": [],
   "source": [
    "# Write your code here\n",
    "names[names.index(\"Amelia\")]=\"Amy\""
   ]
  },
  {
   "cell_type": "code",
   "execution_count": null,
   "id": "HUktJjG7Lqe-",
   "metadata": {
    "colab": {
     "base_uri": "https://localhost:8080/"
    },
    "id": "HUktJjG7Lqe-",
    "outputId": "e392592f-a879-45fb-f2f0-6f302f9c5c16"
   },
   "outputs": [
    {
     "data": {
      "text/plain": [
       "['Thomas',\n",
       " 'Kate',\n",
       " 'Mike',\n",
       " 'Amy',\n",
       " 'James',\n",
       " 'Megan',\n",
       " 'khem',\n",
       " 'Peter',\n",
       " 'Steve',\n",
       " 'Sam',\n",
       " 'Charlotte']"
      ]
     },
     "execution_count": 18,
     "metadata": {},
     "output_type": "execute_result"
    }
   ],
   "source": [
    "names"
   ]
  },
  {
   "cell_type": "markdown",
   "id": "eb232f36-b03a-4666-a8be-11f6493ddda3",
   "metadata": {
    "id": "eb232f36-b03a-4666-a8be-11f6493ddda3"
   },
   "source": [
    "#### Dictionary"
   ]
  },
  {
   "cell_type": "code",
   "execution_count": null,
   "id": "c7784413-7700-438d-9bae-e264327f16eb",
   "metadata": {
    "id": "c7784413-7700-438d-9bae-e264327f16eb"
   },
   "outputs": [],
   "source": [
    "capital_city = {'England':'London',\n",
    "                'Spain':'Madrid',\n",
    "                'Japan':'Tokyo',\n",
    "                'Australia':'Sydney',\n",
    "                'Germany':'Berlin',\n",
    "               }"
   ]
  },
  {
   "cell_type": "markdown",
   "id": "4a1424d4-8955-455d-9bda-ddc573c50307",
   "metadata": {
    "id": "4a1424d4-8955-455d-9bda-ddc573c50307"
   },
   "source": [
    "Add a record `Thailand` and it's capital city to this dictionary"
   ]
  },
  {
   "cell_type": "code",
   "execution_count": null,
   "id": "d7134edd-6732-4c37-9b69-28c02579c74f",
   "metadata": {
    "colab": {
     "base_uri": "https://localhost:8080/"
    },
    "id": "d7134edd-6732-4c37-9b69-28c02579c74f",
    "outputId": "64030a52-f1fe-435c-b64d-dac8e468ee77"
   },
   "outputs": [
    {
     "data": {
      "text/plain": [
       "{'England': 'London',\n",
       " 'Spain': 'Madrid',\n",
       " 'Japan': 'Tokyo',\n",
       " 'Australia': 'Sydney',\n",
       " 'Germany': 'Berlin',\n",
       " 'Thailand': 'Bangkok'}"
      ]
     },
     "execution_count": 20,
     "metadata": {},
     "output_type": "execute_result"
    }
   ],
   "source": [
    "# Write your code here\n",
    "capital_city[\"Thailand\"]=\"Bangkok\"\n",
    "capital_city"
   ]
  },
  {
   "cell_type": "markdown",
   "id": "442728cb-9f2d-472b-8909-987996e176cb",
   "metadata": {
    "id": "442728cb-9f2d-472b-8909-987996e176cb"
   },
   "source": [
    "You may notice that the capital city of `Australia` is wrong. It should be `Canberra`. Correct this mistake."
   ]
  },
  {
   "cell_type": "code",
   "execution_count": null,
   "id": "e9c689e8-ad32-4ddd-9e33-8025d2b8fa00",
   "metadata": {
    "colab": {
     "base_uri": "https://localhost:8080/"
    },
    "id": "e9c689e8-ad32-4ddd-9e33-8025d2b8fa00",
    "jp-MarkdownHeadingCollapsed": true,
    "outputId": "87e40ddc-00f1-4c70-858d-4726c9705c3b",
    "tags": []
   },
   "outputs": [
    {
     "data": {
      "text/plain": [
       "{'England': 'London',\n",
       " 'Spain': 'Madrid',\n",
       " 'Japan': 'Tokyo',\n",
       " 'Australia': 'Canberra',\n",
       " 'Germany': 'Berlin',\n",
       " 'Thailand': 'Bangkok'}"
      ]
     },
     "execution_count": 21,
     "metadata": {},
     "output_type": "execute_result"
    }
   ],
   "source": [
    "# Write your code here\n",
    "capital_city[\"Australia\"]=\"Canberra\"\n",
    "capital_city"
   ]
  },
  {
   "cell_type": "markdown",
   "id": "47de81e4-3a74-40ba-b383-4d9a4ba8a240",
   "metadata": {
    "id": "47de81e4-3a74-40ba-b383-4d9a4ba8a240"
   },
   "source": [
    "## 4. Control Flows and conditional statements"
   ]
  },
  {
   "cell_type": "markdown",
   "id": "26875311-407e-403d-9fdb-f8ded74f4926",
   "metadata": {
    "id": "26875311-407e-403d-9fdb-f8ded74f4926"
   },
   "source": [
    "### if...elif...else"
   ]
  },
  {
   "cell_type": "markdown",
   "id": "ef7bc755-efcd-45c5-a8e4-446724231dd1",
   "metadata": {
    "id": "ef7bc755-efcd-45c5-a8e4-446724231dd1"
   },
   "source": [
    "**1.** Define a variable to get input age from user."
   ]
  },
  {
   "cell_type": "code",
   "execution_count": null,
   "id": "908ab4b9-4452-4558-9dfa-33aba76e683c",
   "metadata": {
    "colab": {
     "base_uri": "https://localhost:8080/"
    },
    "id": "908ab4b9-4452-4558-9dfa-33aba76e683c",
    "outputId": "a5553ae2-ae9b-45e4-90a1-ee3778d6f64b"
   },
   "outputs": [
    {
     "name": "stdout",
     "output_type": "stream",
     "text": [
      "Enter age : 15\n"
     ]
    }
   ],
   "source": [
    "age = int(input(\"Enter age : \"))"
   ]
  },
  {
   "cell_type": "markdown",
   "id": "92ee554c-f82d-4ad6-80ae-6d095b6eca2d",
   "metadata": {
    "id": "92ee554c-f82d-4ad6-80ae-6d095b6eca2d"
   },
   "source": [
    "Write a series of if...elif...else statement that categorize input age into following groups:\n",
    "> Babies: 0-2 years old  \n",
    "Children: 3-12 years old  \n",
    "Teenager: 13-19 years old  \n",
    "Young Adults: 20-29 years old  \n",
    "Middle-aged Adults: 30-45 years old  \n",
    "Old Adult: 46-59 years old  \n",
    "Elderly: Above 60 years old  "
   ]
  },
  {
   "cell_type": "code",
   "execution_count": null,
   "id": "77dc4105-8e3f-49da-932a-82611fd9dd8d",
   "metadata": {
    "colab": {
     "base_uri": "https://localhost:8080/"
    },
    "id": "77dc4105-8e3f-49da-932a-82611fd9dd8d",
    "outputId": "cf9c8daa-f7fe-4430-f163-eda5ccc47bce"
   },
   "outputs": [
    {
     "name": "stdout",
     "output_type": "stream",
     "text": [
      "Teenager\n"
     ]
    }
   ],
   "source": [
    "# Write your code here\n",
    "if 0<= age <= 2:\n",
    "    print(\"Babies\")\n",
    "elif 3 <= age <= 12:\n",
    "    print(\"Children\")\n",
    "elif 13 <= age <= 19:\n",
    "    print(\"Teenager\")\n",
    "elif 20 <= age <= 29:\n",
    "    print(\"Young Adults\")\n",
    "elif 30 <= age <= 45:\n",
    "    print(\"Middle-aged\")\n",
    "elif 46 <= age <= 59:\n",
    "    print(\"Old Adult\")\n",
    "elif age >= 60:\n",
    "    print(\"Eldery\")\n"
   ]
  },
  {
   "cell_type": "markdown",
   "id": "c5713324-a3ea-46f9-9cd3-b3bbfa754ae7",
   "metadata": {
    "id": "c5713324-a3ea-46f9-9cd3-b3bbfa754ae7"
   },
   "source": [
    "### Looping"
   ]
  },
  {
   "cell_type": "markdown",
   "id": "93f2d88b-535e-4446-a81c-26d99ecedaaf",
   "metadata": {
    "id": "93f2d88b-535e-4446-a81c-26d99ecedaaf"
   },
   "source": [
    "**1.** Write a code to create a multiplication table of an input number (multiplier from 1-12)."
   ]
  },
  {
   "cell_type": "code",
   "execution_count": null,
   "id": "edea70e8-9bb0-46f1-9234-5b7c78c5038e",
   "metadata": {
    "colab": {
     "base_uri": "https://localhost:8080/"
    },
    "id": "edea70e8-9bb0-46f1-9234-5b7c78c5038e",
    "outputId": "c37f1c38-e66d-45e2-b02e-6c3057ba457d"
   },
   "outputs": [
    {
     "name": "stdout",
     "output_type": "stream",
     "text": [
      "Enter number : 5\n",
      "5 x 1 = 5\n",
      "5 x 2 = 10\n",
      "5 x 3 = 15\n",
      "5 x 4 = 20\n",
      "5 x 5 = 25\n",
      "5 x 6 = 30\n",
      "5 x 7 = 35\n",
      "5 x 8 = 40\n",
      "5 x 9 = 45\n",
      "5 x 10 = 50\n",
      "5 x 11 = 55\n",
      "5 x 12 = 60\n"
     ]
    }
   ],
   "source": [
    "# Write your code here\n",
    "multiplicant = int(input(\"Enter number : \"))\n",
    "\n",
    "for mul in range(1,12+1):\n",
    "    print(f\"{multiplicant} x {mul} = {mul*multiplicant}\")"
   ]
  },
  {
   "cell_type": "markdown",
   "id": "344ae7de-0986-416d-a86d-31f739a4df7a",
   "metadata": {
    "id": "344ae7de-0986-416d-a86d-31f739a4df7a"
   },
   "source": [
    "**2.** Write a code that construct the following pattern.  "
   ]
  },
  {
   "cell_type": "markdown",
   "id": "DtraFc80NEKi",
   "metadata": {
    "id": "DtraFc80NEKi"
   },
   "source": [
    "input : 5\n",
    "output:\n",
    "*\n",
    "**\n",
    "***\n",
    "****\n",
    "*****"
   ]
  },
  {
   "cell_type": "code",
   "execution_count": null,
   "id": "05671650-e184-4f5e-b17a-3e3f44a563e9",
   "metadata": {
    "colab": {
     "base_uri": "https://localhost:8080/"
    },
    "id": "05671650-e184-4f5e-b17a-3e3f44a563e9",
    "outputId": "a850061d-9051-4941-bf55-ecaddaf0c91b"
   },
   "outputs": [
    {
     "name": "stdout",
     "output_type": "stream",
     "text": [
      "Enter Level : 15\n",
      "*\n",
      "**\n",
      "***\n",
      "****\n",
      "*****\n",
      "******\n",
      "*******\n",
      "********\n",
      "*********\n",
      "**********\n",
      "***********\n",
      "************\n",
      "*************\n",
      "**************\n",
      "***************\n"
     ]
    }
   ],
   "source": [
    "# Write your code here\n",
    "level = int(input(\"Enter Level : \"))\n",
    "for i in range(1,level+1):\n",
    "    print(\"*\"*i)\n"
   ]
  },
  {
   "cell_type": "markdown",
   "id": "591e6802-3d1c-450c-96ff-17bb703cff34",
   "metadata": {
    "id": "591e6802-3d1c-450c-96ff-17bb703cff34"
   },
   "source": [
    "**3.** Creates a loop to print `I love <programming language>!` except for Assembly, print `Not you, Assembly`."
   ]
  },
  {
   "cell_type": "code",
   "execution_count": null,
   "id": "27ae77b1-cca1-45b0-853f-458bad532661",
   "metadata": {
    "id": "27ae77b1-cca1-45b0-853f-458bad532661"
   },
   "outputs": [],
   "source": [
    "languages = ['C/C++', 'Python', 'R', 'Java', 'SQLs', 'Assembly', 'Go', 'Rust', 'Kotlin']"
   ]
  },
  {
   "cell_type": "code",
   "execution_count": null,
   "id": "f94fb0d3-1482-403d-a4d2-245191c75931",
   "metadata": {
    "colab": {
     "base_uri": "https://localhost:8080/"
    },
    "id": "f94fb0d3-1482-403d-a4d2-245191c75931",
    "outputId": "51861286-1612-4a3f-aae2-0ebb01e2ad4f"
   },
   "outputs": [
    {
     "name": "stdout",
     "output_type": "stream",
     "text": [
      "I love C/C++!\n",
      "I love Python!\n",
      "I love R!\n",
      "I love Java!\n",
      "I love SQLs!\n",
      "Not you, Assembly\n",
      "I love Go!\n",
      "I love Rust!\n",
      "I love Kotlin!\n"
     ]
    }
   ],
   "source": [
    "# Write your code here\n",
    "for lang in languages:\n",
    "    if lang == \"Assembly\":\n",
    "        print(f\"Not you, {lang}\")\n",
    "    else :\n",
    "        print(f\"I love {lang}!\")"
   ]
  },
  {
   "cell_type": "markdown",
   "id": "b6e64546-269f-4b47-a1f3-d91bde2156c5",
   "metadata": {
    "id": "b6e64546-269f-4b47-a1f3-d91bde2156c5"
   },
   "source": [
    "**4.** Write a code to print every number from 1 to 25 except the one that is divisible by 3."
   ]
  },
  {
   "cell_type": "code",
   "execution_count": null,
   "id": "d09b0d6d-0245-4137-a160-1c7d5d5b7d52",
   "metadata": {
    "colab": {
     "base_uri": "https://localhost:8080/"
    },
    "id": "d09b0d6d-0245-4137-a160-1c7d5d5b7d52",
    "outputId": "c056402f-9e49-4bd8-ee01-d732947e78dd"
   },
   "outputs": [
    {
     "name": "stdout",
     "output_type": "stream",
     "text": [
      "1\n",
      "2\n",
      "4\n",
      "5\n",
      "7\n",
      "8\n",
      "10\n",
      "11\n",
      "13\n",
      "14\n",
      "16\n",
      "17\n",
      "19\n",
      "20\n",
      "22\n",
      "23\n",
      "25\n"
     ]
    }
   ],
   "source": [
    "# Write your code here\n",
    "for num in range(1,25+1):\n",
    "    if num%3:\n",
    "        print(num)"
   ]
  },
  {
   "cell_type": "markdown",
   "id": "96121e50-14d1-422c-855d-6b0f4df8d1ce",
   "metadata": {
    "id": "96121e50-14d1-422c-855d-6b0f4df8d1ce"
   },
   "source": [
    "**5.** Write a code that finds the number that is divisible by 7 in a given range."
   ]
  },
  {
   "cell_type": "code",
   "execution_count": null,
   "id": "b161d861-2250-48d1-a348-66a8616de8ca",
   "metadata": {
    "id": "b161d861-2250-48d1-a348-66a8616de8ca"
   },
   "outputs": [],
   "source": [
    "lower_bound = 1\n",
    "upper_bound = 100\n",
    "divisor = 7\n",
    "\n",
    "result = []"
   ]
  },
  {
   "cell_type": "code",
   "execution_count": null,
   "id": "0ee01cfb-bbe2-482e-a7fd-cbcb0b444657",
   "metadata": {
    "colab": {
     "base_uri": "https://localhost:8080/"
    },
    "id": "0ee01cfb-bbe2-482e-a7fd-cbcb0b444657",
    "outputId": "53063f3c-990f-4934-d0e7-3ed2421e7c38"
   },
   "outputs": [
    {
     "name": "stdout",
     "output_type": "stream",
     "text": [
      "[7, 14, 21, 28, 35, 42, 49, 56, 63, 70, 77, 84, 91, 98]\n"
     ]
    }
   ],
   "source": [
    "# Write your code here\n",
    "for num in range(lower_bound,upper_bound):\n",
    "    if not num%7:\n",
    "        result.append(num)\n",
    "\n",
    "print(result)"
   ]
  },
  {
   "cell_type": "markdown",
   "id": "5f79cd06-9c78-4d92-9c81-962ea26148e1",
   "metadata": {
    "id": "5f79cd06-9c78-4d92-9c81-962ea26148e1"
   },
   "source": [
    "**6.** Write a code that construct the following pattern.  "
   ]
  },
  {
   "cell_type": "raw",
   "id": "f8583076-5656-4e2f-8615-7da2ddda7fd9",
   "metadata": {
    "id": "f8583076-5656-4e2f-8615-7da2ddda7fd9"
   },
   "source": [
    "input: 5\n",
    "output:\n",
    "*#####\n",
    "**####\n",
    "***###\n",
    "****##\n",
    "*****#\n",
    "\n",
    "input: 10\n",
    "output:\n",
    "*##########\n",
    "**#########\n",
    "***########\n",
    "****#######\n",
    "*****######\n",
    "******#####\n",
    "*******####\n",
    "********###\n",
    "*********##\n",
    "**********#"
   ]
  },
  {
   "cell_type": "code",
   "execution_count": null,
   "id": "e7ef0bd3-eb14-406a-842f-63716252ec26",
   "metadata": {
    "colab": {
     "base_uri": "https://localhost:8080/"
    },
    "id": "e7ef0bd3-eb14-406a-842f-63716252ec26",
    "outputId": "919165c8-924a-442a-8c15-9bd48716b0f3"
   },
   "outputs": [
    {
     "name": "stdout",
     "output_type": "stream",
     "text": [
      "Enter level : 15\n",
      "*###############\n",
      "**##############\n",
      "***#############\n",
      "****############\n",
      "*****###########\n",
      "******##########\n",
      "*******#########\n",
      "********########\n",
      "*********#######\n",
      "**********######\n",
      "***********#####\n",
      "************####\n",
      "*************###\n",
      "**************##\n",
      "***************#\n"
     ]
    }
   ],
   "source": [
    "# Write your code here\n",
    "level = int(input(\"Enter level : \"))\n",
    "for i in range(1,level+1):\n",
    "    print(f'{\"*\"*i}{\"#\"*(level+1-i)}')\n"
   ]
  },
  {
   "cell_type": "markdown",
   "id": "aff11c81-82c8-4ac5-950e-9f8fc7e75717",
   "metadata": {
    "id": "aff11c81-82c8-4ac5-950e-9f8fc7e75717"
   },
   "source": [
    "## 5. Functions"
   ]
  },
  {
   "cell_type": "markdown",
   "id": "a9494a61-60d0-46dc-bfb6-9732cf2db524",
   "metadata": {
    "id": "a9494a61-60d0-46dc-bfb6-9732cf2db524"
   },
   "source": [
    "**1.** Define a function `average` that takes arbitrary number of arguments and calculate the mean of input."
   ]
  },
  {
   "cell_type": "code",
   "execution_count": null,
   "id": "4a7e53c3-c56e-4c12-96f6-090fdfffcfa7",
   "metadata": {
    "colab": {
     "base_uri": "https://localhost:8080/"
    },
    "id": "4a7e53c3-c56e-4c12-96f6-090fdfffcfa7",
    "outputId": "ce29fd15-294e-48be-e28e-4bd748b0dfa2"
   },
   "outputs": [
    {
     "data": {
      "text/plain": [
       "3.0"
      ]
     },
     "execution_count": 32,
     "metadata": {},
     "output_type": "execute_result"
    }
   ],
   "source": [
    "# Write your code here\n",
    "def average(*nums):\n",
    "    return sum(nums)/len(nums)\n",
    "\n",
    "average(1,2,3,4,5)\n"
   ]
  },
  {
   "cell_type": "markdown",
   "id": "b3518966-bb87-4045-ac93-a44dd659fdf2",
   "metadata": {
    "id": "b3518966-bb87-4045-ac93-a44dd659fdf2"
   },
   "source": [
    "**2.** Define a function `sumproduct` that takes 2 equal-sized lists and calculate sum of the products of two lists.  \n",
    "It should look like this:  \n",
    "> sumproduct([1,2,3],[4,5,6])  \n",
    "output: 32"
   ]
  },
  {
   "cell_type": "markdown",
   "id": "b8cc65c3-d723-4150-915f-50952b6c89b5",
   "metadata": {
    "id": "b8cc65c3-d723-4150-915f-50952b6c89b5"
   },
   "source": [
    "(1 * 4) + (2 * 5) + (3 * 6) = 32"
   ]
  },
  {
   "cell_type": "code",
   "execution_count": null,
   "id": "5ee40a62-62c2-4c32-b443-be74c4561633",
   "metadata": {
    "colab": {
     "base_uri": "https://localhost:8080/"
    },
    "id": "5ee40a62-62c2-4c32-b443-be74c4561633",
    "outputId": "857ecb94-2d30-4583-a5cd-e1d71a1d9f4f"
   },
   "outputs": [
    {
     "data": {
      "text/plain": [
       "32"
      ]
     },
     "execution_count": 33,
     "metadata": {},
     "output_type": "execute_result"
    }
   ],
   "source": [
    "# Write your code here\n",
    "def sumproduct(arr1,arr2):\n",
    "    result = 0\n",
    "    for (i,j) in zip(arr1,arr2):\n",
    "        result += i*j\n",
    "\n",
    "    return result\n",
    "\n",
    "sumproduct([1,2,3],[4,5,6])"
   ]
  },
  {
   "cell_type": "markdown",
   "id": "fa9e1ec4-f283-4914-97b6-1c3c7e4559b3",
   "metadata": {
    "id": "fa9e1ec4-f283-4914-97b6-1c3c7e4559b3"
   },
   "source": [
    "**3.** Define a function `fibonacci` that returns Fibonacci number at `n` position.  \n",
    "A Fibonacci number at position `n` is defined by `F(n) = F(n-1) + F(n-2)`. Where `F(0) = 0` and `F(1) = 1`  \n",
    "**Example:** `0, 1, 1, 2, 3, 5, 8, 13, 21, 34, 55, 89, 144, ...`  "
   ]
  },
  {
   "cell_type": "code",
   "execution_count": null,
   "id": "be842d69-614f-4a99-92b3-06546ecfad8a",
   "metadata": {
    "colab": {
     "base_uri": "https://localhost:8080/"
    },
    "id": "be842d69-614f-4a99-92b3-06546ecfad8a",
    "outputId": "cffe7d7e-3ac3-48e2-9342-b51e64283373"
   },
   "outputs": [
    {
     "data": {
      "text/plain": [
       "13"
      ]
     },
     "execution_count": 34,
     "metadata": {},
     "output_type": "execute_result"
    }
   ],
   "source": [
    "# Write your code here\n",
    "def fibonacci(n):\n",
    "    if n == 0: return 0\n",
    "    elif n == 1 : return 1\n",
    "    else : return fibonacci(n-1)+fibonacci(n-2)\n",
    "\n",
    "fibonacci(7)"
   ]
  },
  {
   "cell_type": "markdown",
   "id": "0fe45b53-d936-4f0f-a8fd-c1e0e62206d5",
   "metadata": {
    "id": "0fe45b53-d936-4f0f-a8fd-c1e0e62206d5"
   },
   "source": [
    "**4.** Define a function `is_palindrome` that takes input string and check whether it is a palindrome or not.  \n",
    "A string is a palindrome if it reads the same forward and backwards.  \n",
    "\n",
    "**Example:** `madam`, `race car`, `borrow or rob`, `amore roma`, `never odd or even`  \n",
    "Do not consider whitespace. Use `str.replace(' ', '')` to remove whitespace from your string.  \n",
    "Case-insensitive. You can turn everything into lower or uppercase using `str.lower()` or `str.upper()`  \n",
    "\n",
    "**Hint:** you can reverse the string using `[::-1]` slice."
   ]
  },
  {
   "cell_type": "code",
   "execution_count": null,
   "id": "94112078-1914-4892-bae3-27b8296bb901",
   "metadata": {
    "id": "94112078-1914-4892-bae3-27b8296bb901"
   },
   "outputs": [],
   "source": [
    "str1 = \"radar\" # palindrome\n",
    "str2 = \"rotator\" # palindrome\n",
    "str3 = \"lemon\" # not palindrome"
   ]
  },
  {
   "cell_type": "code",
   "execution_count": null,
   "id": "247b2d87-cd37-4389-a304-59a4229be2ff",
   "metadata": {
    "colab": {
     "base_uri": "https://localhost:8080/"
    },
    "id": "247b2d87-cd37-4389-a304-59a4229be2ff",
    "outputId": "db69fd90-ed1c-4e8f-a922-8c0c9a1b5f9b"
   },
   "outputs": [
    {
     "name": "stdout",
     "output_type": "stream",
     "text": [
      "radar is          palindrome\n",
      "rotator is          palindrome\n",
      "lemon is     not     palindrome\n"
     ]
    }
   ],
   "source": [
    "# Write your code here\n",
    "def is_palindrome(text):\n",
    "    return text == text[::-1]\n",
    "\n",
    "for i in range(1,4):\n",
    "    text = eval(f\"str{i}\")\n",
    "    print(f'{text} is \\\n",
    "    {\"not\" if not is_palindrome(text) else \"\"} \\\n",
    "    palindrome')"
   ]
  },
  {
   "cell_type": "markdown",
   "id": "e71451d8-adc1-4d52-b9f7-c1a69e3fa65a",
   "metadata": {
    "id": "e71451d8-adc1-4d52-b9f7-c1a69e3fa65a"
   },
   "source": [
    "**5.** An `anagram` is a word or phrase formed by rearranging the letters of a different word or phrase.  \n",
    "Define a function `is_anagram` that takes in 2 strings and check whether it is possible to compose a second string using letters in the first string or not.  \n",
    "\n",
    "**Example:** `Tom Marrvolo Riddle` can be rearraged into `I am Lord Voldermort`  \n",
    "`Meaning of Life` can be rearranged into `Engine of a Film`  \n",
    "Do not consider whitespace. Use `str.replace(' ', '')` to remove whitespace from your string.  \n",
    "Case-insensitive. You can turn everything into lower or uppercase using `str.lower()` or `str.upper()`  \n",
    "Returns only `True` of `False`"
   ]
  },
  {
   "cell_type": "code",
   "execution_count": null,
   "id": "fb6fdf92-c164-49d1-9e2c-0065c9541409",
   "metadata": {
    "colab": {
     "base_uri": "https://localhost:8080/"
    },
    "id": "fb6fdf92-c164-49d1-9e2c-0065c9541409",
    "outputId": "949f5de0-3b1c-4e25-9e39-309705e3f597"
   },
   "outputs": [
    {
     "data": {
      "text/plain": [
       "True"
      ]
     },
     "execution_count": 37,
     "metadata": {},
     "output_type": "execute_result"
    }
   ],
   "source": [
    "# Write your code here\n",
    "str1 = \"Meaning of Life\"\n",
    "str2 = \"Engine of a Film\"\n",
    "\n",
    "def is_anagram(text1,text2):\n",
    "    to_list = lambda txt : txt.lower()\\\n",
    "                        .replace(\" \",\"\")\\\n",
    "                        .split().sort()\n",
    "    return to_list(text1)==to_list(text2)\n",
    "\n",
    "is_anagram(str1,str2)"
   ]
  },
  {
   "cell_type": "markdown",
   "id": "b4930c70-1db0-4c50-93c7-406538b1d140",
   "metadata": {
    "id": "b4930c70-1db0-4c50-93c7-406538b1d140"
   },
   "source": [
    "---"
   ]
  }
 ],
 "metadata": {
  "colab": {
   "include_colab_link": true,
   "provenance": []
  },
  "kernelspec": {
   "display_name": "Python 3 (ipykernel)",
   "language": "python",
   "name": "python3"
  },
  "language_info": {
   "codemirror_mode": {
    "name": "ipython",
    "version": 3
   },
   "file_extension": ".py",
   "mimetype": "text/x-python",
   "name": "python",
   "nbconvert_exporter": "python",
   "pygments_lexer": "ipython3",
   "version": "3.11.10"
  },
  "vscode": {
   "interpreter": {
    "hash": "aee8b7b246df8f9039afb4144a1f6fd8d2ca17a180786b69acc140d282b71a49"
   }
  }
 },
 "nbformat": 4,
 "nbformat_minor": 5
}
